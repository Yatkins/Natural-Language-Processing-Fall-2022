{
  "nbformat": 4,
  "nbformat_minor": 0,
  "metadata": {
    "colab": {
      "provenance": []
    },
    "kernelspec": {
      "name": "python3",
      "display_name": "Python 3"
    },
    "language_info": {
      "name": "python"
    }
  },
  "cells": [
    {
      "cell_type": "markdown",
      "source": [],
      "metadata": {
        "id": "weWfAPzPrBLx"
      }
    },
    {
      "cell_type": "code",
      "execution_count": null,
      "metadata": {
        "colab": {
          "base_uri": "https://localhost:8080/"
        },
        "id": "XrmxvmmvxkVW",
        "outputId": "976f23d9-4f61-4a4d-b522-183bb0a43a7f"
      },
      "outputs": [
        {
          "output_type": "stream",
          "name": "stdout",
          "text": [
            "Looking in indexes: https://pypi.org/simple, https://us-python.pkg.dev/colab-wheels/public/simple/\n",
            "Requirement already satisfied: praat-parselmouth in /usr/local/lib/python3.7/dist-packages (0.4.2)\n",
            "Requirement already satisfied: numpy>=1.7.0 in /usr/local/lib/python3.7/dist-packages (from praat-parselmouth) (1.21.6)\n"
          ]
        }
      ],
      "source": [
        "!pip install praat-parselmouth\n",
        "\n",
        "import parselmouth\n",
        "from parselmouth.praat import call \n",
        "import urllib.request\n",
        "from urllib.request import urlretrieve\n"
      ]
    },
    {
      "cell_type": "code",
      "source": [
        "MSP_url = \"http://www.cs.columbia.edu/~sarahita/CL/MSP_samples/\"\n",
        "emotion_files = ['angry.wav', 'disgust.wav', 'fear.wav', 'happy.wav', 'sad.wav', 'surprise.wav', 'neutral.wav']"
      ],
      "metadata": {
        "id": "-Ehr5Qc11IA0"
      },
      "execution_count": null,
      "outputs": []
    },
    {
      "cell_type": "code",
      "source": [
        "# download data\n",
        "!wget -nc http://www.cs.columbia.edu/~sarahita/CL/MSP_samples/angry.wav\n",
        "!wget -nc http://www.cs.columbia.edu/~sarahita/CL/MSP_samples/disgust.wav\n",
        "!wget -nc http://www.cs.columbia.edu/~sarahita/CL/MSP_samples/fear.wav\n",
        "!wget -nc http://www.cs.columbia.edu/~sarahita/CL/MSP_samples/happy.wav\n",
        "!wget -nc http://www.cs.columbia.edu/~sarahita/CL/MSP_samples/sad.wav\n",
        "!wget -nc http://www.cs.columbia.edu/~sarahita/CL/MSP_samples/surprise.wav\n",
        "!wget -nc http://www.cs.columbia.edu/~sarahita/CL/MSP_samples/neutral.wav"
      ],
      "metadata": {
        "colab": {
          "base_uri": "https://localhost:8080/"
        },
        "id": "uYZWicCV79n8",
        "outputId": "abdb8294-1cd2-4c7d-a891-67f07e2a5036"
      },
      "execution_count": null,
      "outputs": [
        {
          "output_type": "stream",
          "name": "stdout",
          "text": [
            "File ‘angry.wav’ already there; not retrieving.\n",
            "\n",
            "File ‘disgust.wav’ already there; not retrieving.\n",
            "\n",
            "File ‘fear.wav’ already there; not retrieving.\n",
            "\n",
            "File ‘happy.wav’ already there; not retrieving.\n",
            "\n",
            "File ‘sad.wav’ already there; not retrieving.\n",
            "\n",
            "File ‘surprise.wav’ already there; not retrieving.\n",
            "\n",
            "File ‘neutral.wav’ already there; not retrieving.\n",
            "\n"
          ]
        }
      ]
    },
    {
      "cell_type": "code",
      "source": [
        "# angry_sound = parselmouth.Sound(\"angry.wav\")\n",
        "# disgust_sound = parselmouth.Sound(\"disgust.wav\")\n",
        "# fear_sound = parselmouth.Sound(\"fear.wav\")\n",
        "# happy_sound = parselmouth.Sound(\"happy.wav\")\n",
        "# sad_sound = parselmouth.Sound(\"sad.wav\")\n",
        "# surprise_sound = parselmouth.Sound(\"surprise.wav\")\n",
        "# neutral_sound = parselmouth.Sound(\"neutral.wav\")\n",
        "\n",
        "# files = [angry_sound,disgust_sound,fear_sound,happy_sound,sad_sound,surprise_sound,neutral_sound]\n",
        "\n",
        "soundWords = {\n",
        "    'happy.wav' : \"We have two eyes, and two ears, and fingernails, and I'm like oh my gosh that's so adorable.\",\n",
        "\n",
        "    'angry.wav' : \"This process, that I walked this path with her, as she came out.\",\n",
        "\n",
        "    'sad.wav' : \"Um, our producer Keith had family issues, and then things just kind of kept on falling apart\",\n",
        "\n",
        "    'fear.wav' : \"And I, I think about Trump, if he gets power, I mean if he actually gets elected, I fear for this country's future, I fear for the future of human liberty.\",\n",
        "\n",
        "    'surprise.wav' : \"And I'm, I'm watching people go, wait a minute, you mean, you mean, Dr. Carson is?\",\n",
        "\n",
        "    'disgust.wav' : \"I mean the more politicians speak, the more I want to turn it off, uh, because they're all a bunch of liars and thieves and crooks.\",\n",
        "\n",
        "    'neutral.wav' : \"Printing more than two hundred footnotes and thirty classic texts.\"\n",
        "}\n"
      ],
      "metadata": {
        "id": "o214K12pzU4X"
      },
      "execution_count": null,
      "outputs": []
    },
    {
      "cell_type": "code",
      "source": [
        "# for sound in files:\n",
        "for file_1 in emotion_files:\n",
        "\n",
        "    print(file_1)\n",
        "    sound = parselmouth.Sound(file_1)\n",
        "    pitch = call(sound, \"To Pitch\", 0.0, 75.0, 600.0)\n",
        "\n",
        "    minF0 = parselmouth.praat.call(pitch, \"Get minimum\", 0, 0, \"Hertz\", \"Parabolic\")\n",
        "    maxF0 = parselmouth.praat.call(pitch, \"Get maximum\", 0, 0, \"Hertz\", \"Parabolic\")\n",
        "    meanF0 = parselmouth.praat.call(pitch, \"Get mean\", 0, 0, \"Hertz\")\n",
        "    print (\"MinF0: \", minF0,\", MaxF0: \",maxF0, \", MeanF0: \", meanF0)\n",
        "\n",
        "    intensity = call(sound, 'To Intensity', 75.0, 0.0)\n",
        "    min_intensity = call(intensity, \"Get minimum\", 0, 0, \"Parabolic\")\n",
        "    max_intensity = call(intensity, \"Get maximum\", 0, 0, \"Parabolic\")\n",
        "    mean_intensity = call(intensity, \"Get mean\", 0, 0)\n",
        "    print (\"min_intensity: \", min_intensity,\", max_intensity: \",max_intensity, \", mean_intensity: \", mean_intensity)\n",
        "\n",
        "    pointProcess = call(sound, \"To PointProcess (periodic, cc)\", minF0, maxF0)\n",
        "    localJitter = call(pointProcess, \"Get jitter (local)\", 0, 0, 0.0001, 0.02, 1.3)\n",
        "    localShimmer =  call([sound, pointProcess], \"Get shimmer (local)\", 0, 0, 0.0001, 0.02, 1.3, 1.6)\n",
        "    \n",
        "    harmonicity = call(sound, \"To Harmonicity (cc)\", 0.01, 75.0, 0.1, 1.0)\n",
        "    hnr = call(harmonicity, \"Get mean\", 0, 0)\n",
        "\n",
        "    num_words = len(soundWords[file_1].split())\n",
        "    duration = call(sound, \"Get total duration\")\n",
        "    speaking_rate = num_words/duration\n",
        "\n",
        "    print (\"localJitter: \", localJitter,\", localShimmer: \",localShimmer, \", hnr: \", hnr, \", speaking_rate: \", speaking_rate)\n",
        "    print()\n",
        "\n"
      ],
      "metadata": {
        "colab": {
          "base_uri": "https://localhost:8080/"
        },
        "id": "I830vvuGoq25",
        "outputId": "fa88c0ef-39ea-49c7-ecfc-a072421986f2"
      },
      "execution_count": null,
      "outputs": [
        {
          "output_type": "stream",
          "name": "stdout",
          "text": [
            "angry.wav\n",
            "MinF0:  92.92536033246843 , MaxF0:  510.2366648479021 , MeanF0:  241.99645869934358\n",
            "min_intensity:  27.659625028196686 , max_intensity:  80.20379161716382 , mean_intensity:  62.26882556869509\n",
            "localJitter:  0.027365622849679732 , localShimmer:  0.09819058739235242 , hnr:  7.779493102517662 , speaking_rate:  3.230766841148786\n",
            "\n",
            "disgust.wav\n",
            "MinF0:  84.35528157116813 , MaxF0:  253.99773132096675 , MeanF0:  162.44683079518143\n",
            "min_intensity:  36.79702482180554 , max_intensity:  78.95898789125769 , mean_intensity:  69.5051447673599\n",
            "localJitter:  0.019370852899705346 , localShimmer:  0.07769897575728833 , hnr:  10.87494935941171 , speaking_rate:  4.456490299634696\n",
            "\n",
            "fear.wav\n",
            "MinF0:  73.81670152851585 , MaxF0:  439.5928331297999 , MeanF0:  150.17616171385131\n",
            "min_intensity:  6.048476715603529 , max_intensity:  85.35970487365398 , mean_intensity:  61.13955012082389\n",
            "localJitter:  0.02923274058099618 , localShimmer:  0.1563635067692573 , hnr:  8.174009729315888 , speaking_rate:  2.923631905312051\n",
            "\n",
            "happy.wav\n",
            "MinF0:  76.91324697102966 , MaxF0:  314.48964697011064 , MeanF0:  206.9239932620055\n",
            "min_intensity:  39.02278963262107 , max_intensity:  77.7763583289554 , mean_intensity:  65.57783079487193\n",
            "localJitter:  0.015676077279567775 , localShimmer:  0.06055537795215888 , hnr:  14.605586713174537 , speaking_rate:  4.090850982230366\n",
            "\n",
            "sad.wav\n",
            "MinF0:  87.12796532010188 , MaxF0:  268.5318429497442 , MeanF0:  212.86830600049325\n",
            "min_intensity:  26.921803090107346 , max_intensity:  81.45045861831954 , mean_intensity:  62.866238166018995\n",
            "localJitter:  0.013951172124572338 , localShimmer:  0.0590401405591711 , hnr:  15.560008147677788 , speaking_rate:  2.3061596506846413\n",
            "\n",
            "surprise.wav\n",
            "MinF0:  83.80438661981275 , MaxF0:  434.81948436242084 , MeanF0:  240.9529127726353\n",
            "min_intensity:  40.92109931220235 , max_intensity:  82.06880765951675 , mean_intensity:  65.01422889260122\n",
            "localJitter:  0.030443192400620423 , localShimmer:  0.0914144192636943 , hnr:  12.494142506942932 , speaking_rate:  3.5582736812843145\n",
            "\n",
            "neutral.wav\n",
            "MinF0:  82.97660847099748 , MaxF0:  191.52944617738214 , MeanF0:  130.55828997031145\n",
            "min_intensity:  33.93034207390818 , max_intensity:  79.78075945354595 , mean_intensity:  68.10603690502434\n",
            "localJitter:  0.02692436441545738 , localShimmer:  0.07026061883656462 , hnr:  11.172631571379021 , speaking_rate:  2.9154518950437316\n",
            "\n"
          ]
        }
      ]
    },
    {
      "cell_type": "code",
      "source": [
        "# useful github showing how to use parselmouth to extract acoustic-prosodic features: \n",
        "# https://github.com/drfeinberg/PraatScripts/blob/master/Measure%20Pitch%2C%20HNR%2C%20Jitter%2C%20Shimmer%2C%20and%20Formants.ipynb"
      ],
      "metadata": {
        "id": "Sry_M7E79Bex"
      },
      "execution_count": null,
      "outputs": []
    }
  ]
}